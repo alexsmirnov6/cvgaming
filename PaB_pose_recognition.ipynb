{
  "cells": [
    {
      "cell_type": "code",
      "source": [
        "!pip install mouse\n",
        "!pip install mediapipe"
      ],
      "metadata": {
        "id": "EBUccZBlGRDH"
      },
      "id": "EBUccZBlGRDH",
      "execution_count": null,
      "outputs": []
    },
    {
      "cell_type": "code",
      "execution_count": null,
      "id": "b405ea5f",
      "metadata": {
        "id": "b405ea5f"
      },
      "outputs": [],
      "source": [
        "import mouse\n",
        "\n",
        "import cv2\n",
        "import csv\n",
        "import mediapipe as mp\n",
        "import numpy as np\n",
        "import pandas as pd\n",
        "import pickle\n",
        "\n",
        "from sklearn.model_selection import train_test_split\n",
        "from sklearn.pipeline import make_pipeline\n",
        "from sklearn.preprocessing import StandardScaler\n",
        "from sklearn.linear_model import LogisticRegression, RidgeClassifier\n",
        "from sklearn.ensemble import RandomForestClassifier, GradientBoostingClassifier\n",
        "from sklearn.metrics import accuracy_score\n",
        "\n",
        "mp_drawing = mp.solutions.drawing_utils\n",
        "mp_pose = mp.solutions.pose"
      ]
    },
    {
      "cell_type": "markdown",
      "id": "f05da05d",
      "metadata": {
        "id": "f05da05d"
      },
      "source": [
        "# Mediapipe test"
      ]
    },
    {
      "cell_type": "code",
      "execution_count": null,
      "id": "0a0e05b0",
      "metadata": {
        "id": "0a0e05b0"
      },
      "outputs": [],
      "source": [
        "cap = cv2.VideoCapture(0)\n",
        "# Setup mediapipe instance\n",
        "with mp_pose.Pose(min_detection_confidence=0.5, min_tracking_confidence=0.5) as pose:\n",
        "    while cap.isOpened():\n",
        "        ret, frame = cap.read()\n",
        "\n",
        "        # Recolor image to RGB\n",
        "        image = cv2.cvtColor(frame, cv2.COLOR_BGR2RGB)\n",
        "        image.flags.writeable = False\n",
        "\n",
        "        # Make detection\n",
        "        results = pose.process(image)\n",
        "\n",
        "        # Recolor back to BGR\n",
        "        image.flags.writeable = True\n",
        "        image = cv2.cvtColor(image, cv2.COLOR_RGB2BGR)\n",
        "\n",
        "        # Extract landmarks\n",
        "        try:\n",
        "            landmarks = results.pose_landmarks.landmark\n",
        "            #print(landmarks)\n",
        "        except:\n",
        "            pass\n",
        "\n",
        "\n",
        "        # Render detections\n",
        "        mp_drawing.draw_landmarks(image, results.pose_landmarks, mp_pose.POSE_CONNECTIONS,\n",
        "                                mp_drawing.DrawingSpec(color=(245,117,66), thickness=2, circle_radius=2),\n",
        "                                mp_drawing.DrawingSpec(color=(245,66,230), thickness=2, circle_radius=2)\n",
        "                                 )\n",
        "\n",
        "        cv2.imshow('Mediapipe Feed', image)\n",
        "\n",
        "        if cv2.waitKey(10) & 0xFF == ord('q'):\n",
        "            break\n",
        "\n",
        "    cap.release()\n",
        "    cv2.destroyAllWindows()"
      ]
    },
    {
      "cell_type": "markdown",
      "id": "949a6ea3",
      "metadata": {
        "id": "949a6ea3"
      },
      "source": [
        "# Collecting data from hands"
      ]
    },
    {
      "cell_type": "code",
      "execution_count": null,
      "id": "2b3a6d9c",
      "metadata": {
        "id": "2b3a6d9c"
      },
      "outputs": [],
      "source": [
        "base_arms = ['class_name']\n",
        "for i in range(12):\n",
        "    new_row = [f'x{i}', f'y{i}', f'z{i}', f'v{i}']\n",
        "    base_arms += new_row"
      ]
    },
    {
      "cell_type": "code",
      "execution_count": null,
      "id": "3b98e07a",
      "metadata": {
        "id": "3b98e07a"
      },
      "outputs": [],
      "source": [
        "with open('arms.csv', mode='w', newline='') as f:\n",
        "    csv_writer = csv.writer(f, delimiter=',', quotechar='\"', quoting=csv.QUOTE_MINIMAL)\n",
        "    csv_writer.writerow(base_arms)"
      ]
    },
    {
      "cell_type": "code",
      "execution_count": null,
      "id": "c6ff81ff",
      "metadata": {
        "id": "c6ff81ff"
      },
      "outputs": [],
      "source": [
        "class_name = 'block'\n",
        "\n",
        "arms_range = [[11, 22]]\n",
        "\n",
        "cap = cv2.VideoCapture(0)\n",
        "with mp_pose.Pose(min_detection_confidence=0.5, min_tracking_confidence=0.5) as pose:\n",
        "    while cap.isOpened():\n",
        "        ret, frame = cap.read()\n",
        "\n",
        "        image = cv2.cvtColor(frame, cv2.COLOR_BGR2RGB)\n",
        "        image.flags.writeable = False\n",
        "\n",
        "        results = pose.process(image)\n",
        "\n",
        "        image.flags.writeable = True\n",
        "        image = cv2.cvtColor(image, cv2.COLOR_RGB2BGR)\n",
        "\n",
        "        try:\n",
        "            # landmark colleting\n",
        "            landmarks = results.pose_landmarks.landmark\n",
        "            arms_landmarks = list()\n",
        "\n",
        "            for arms_list in arms_range:\n",
        "                for landmark_index in range(arms_list[0], arms_list[1]+1):\n",
        "                    landmark_row = [\n",
        "                        landmarks[landmark_index].x,\n",
        "                        landmarks[landmark_index].y,\n",
        "                        landmarks[landmark_index].z,\n",
        "                                   ]\n",
        "                    arms_landmarks += landmark_row\n",
        "\n",
        "            # add label\n",
        "            arms_landmarks.insert(0, class_name)\n",
        "\n",
        "            # landmark saving\n",
        "            with open('arms.csv', mode='a', newline='') as f:\n",
        "                csv_writer = csv.writer(f, delimiter=',', quotechar='\"', quoting=csv.QUOTE_MINIMAL)\n",
        "                csv_writer.writerow(arms_landmarks)\n",
        "        except:\n",
        "            pass\n",
        "\n",
        "        mp_drawing.draw_landmarks(image, results.pose_landmarks, mp_pose.POSE_CONNECTIONS,\n",
        "                                mp_drawing.DrawingSpec(color=(245,117,66), thickness=2, circle_radius=2),\n",
        "                                mp_drawing.DrawingSpec(color=(245,66,230), thickness=2, circle_radius=2)\n",
        "                                 )\n",
        "\n",
        "        cv2.imshow('Mediapipe Feed', image)\n",
        "\n",
        "        if cv2.waitKey(10) & 0xFF == ord('q'):\n",
        "            break\n",
        "\n",
        "    cap.release()\n",
        "    cv2.destroyAllWindows()"
      ]
    },
    {
      "cell_type": "markdown",
      "id": "02c7b27a",
      "metadata": {
        "id": "02c7b27a"
      },
      "source": [
        "# Collecting data from body"
      ]
    },
    {
      "cell_type": "code",
      "execution_count": null,
      "id": "3a2978fc",
      "metadata": {
        "id": "3a2978fc"
      },
      "outputs": [],
      "source": [
        "with open('body.csv', mode='w', newline='') as f:\n",
        "    csv_writer = csv.writer(f, delimiter=',', quotechar='\"', quoting=csv.QUOTE_MINIMAL)\n",
        "    csv_writer.writerow(landmarks)"
      ]
    },
    {
      "cell_type": "code",
      "execution_count": null,
      "id": "8237164f",
      "metadata": {
        "id": "8237164f"
      },
      "outputs": [],
      "source": [
        "class_name = 'stay'\n",
        "\n",
        "body_range = [[9, 12], [23, 24]]\n",
        "\n",
        "cap = cv2.VideoCapture(0)\n",
        "with mp_pose.Pose(min_detection_confidence=0.5, min_tracking_confidence=0.5) as pose:\n",
        "    while cap.isOpened():\n",
        "        ret, frame = cap.read()\n",
        "\n",
        "        image = cv2.cvtColor(frame, cv2.COLOR_BGR2RGB)\n",
        "        image.flags.writeable = False\n",
        "\n",
        "        results = pose.process(image)\n",
        "\n",
        "        image.flags.writeable = True\n",
        "        image = cv2.cvtColor(image, cv2.COLOR_RGB2BGR)\n",
        "\n",
        "        try:\n",
        "            landmarks = results.pose_landmarks.landmark\n",
        "            body_landmarks = list()\n",
        "            for body_list in body_range:\n",
        "                for landmark_index in range(body_list[0], body_list[1]+1):\n",
        "                    landmark_row = [\n",
        "                        landmarks[landmark_index].x,\n",
        "                        landmarks[landmark_index].y,\n",
        "                        landmarks[landmark_index].z,\n",
        "                                   ]\n",
        "                    body_landmarks += landmark_row\n",
        "\n",
        "            body_landmarks.insert(0, class_name)\n",
        "\n",
        "            with open('body.csv', mode='a', newline='') as f:\n",
        "                csv_writer = csv.writer(f, delimiter=',', quotechar='\"', quoting=csv.QUOTE_MINIMAL)\n",
        "                csv_writer.writerow(body_landmarks)\n",
        "        except:\n",
        "            pass\n",
        "\n",
        "        mp_drawing.draw_landmarks(image, results.pose_landmarks, mp_pose.POSE_CONNECTIONS,\n",
        "                                mp_drawing.DrawingSpec(color=(245,117,66), thickness=2, circle_radius=2),\n",
        "                                mp_drawing.DrawingSpec(color=(245,66,230), thickness=2, circle_radius=2)\n",
        "                                 )\n",
        "\n",
        "        cv2.imshow('Mediapipe Feed', image)\n",
        "\n",
        "        if cv2.waitKey(10) & 0xFF == ord('q'):\n",
        "            break\n",
        "\n",
        "    cap.release()\n",
        "    cv2.destroyAllWindows()"
      ]
    },
    {
      "cell_type": "markdown",
      "id": "42b23c10",
      "metadata": {
        "id": "42b23c10"
      },
      "source": [
        "# Model training"
      ]
    },
    {
      "cell_type": "code",
      "execution_count": null,
      "id": "26d09cf0",
      "metadata": {
        "id": "26d09cf0"
      },
      "outputs": [],
      "source": [
        "df = pd.read_csv('arms.csv')"
      ]
    },
    {
      "cell_type": "code",
      "execution_count": null,
      "id": "49f647bd",
      "metadata": {
        "id": "49f647bd",
        "outputId": "6df16b1a-ba36-4e80-af00-18e073571fd5"
      },
      "outputs": [
        {
          "data": {
            "text/plain": [
              "array(['stay', 'right_punch', 'left_punch', 'block'], dtype=object)"
            ]
          },
          "execution_count": 139,
          "metadata": {},
          "output_type": "execute_result"
        }
      ],
      "source": [
        "df['class_name'].unique()"
      ]
    },
    {
      "cell_type": "code",
      "execution_count": null,
      "id": "9e06b3c3",
      "metadata": {
        "id": "9e06b3c3"
      },
      "outputs": [],
      "source": [
        "X = df.drop('class_name', axis=1)\n",
        "y = df['class_name']"
      ]
    },
    {
      "cell_type": "code",
      "execution_count": null,
      "id": "30654d1e",
      "metadata": {
        "id": "30654d1e"
      },
      "outputs": [],
      "source": [
        "X_train, X_test, y_train, y_test = train_test_split(X, y, test_size=0.3, random_state=228)"
      ]
    },
    {
      "cell_type": "code",
      "execution_count": null,
      "id": "a6126fce",
      "metadata": {
        "id": "a6126fce"
      },
      "outputs": [],
      "source": [
        "'''\n",
        "get some standard ml pipelines to train all of\n",
        "them and choose the best by accuracy metric\n",
        "'''\n",
        "\n",
        "pipelines = {\n",
        "    'lr':make_pipeline(StandardScaler(), LogisticRegression()),\n",
        "    'rc':make_pipeline(StandardScaler(), RidgeClassifier()),\n",
        "    'rf':make_pipeline(StandardScaler(), RandomForestClassifier()),\n",
        "    'gb':make_pipeline(StandardScaler(), GradientBoostingClassifier()),\n",
        "}"
      ]
    },
    {
      "cell_type": "code",
      "execution_count": null,
      "id": "53817b1f",
      "metadata": {
        "id": "53817b1f",
        "outputId": "e6a5a020-4086-4790-ddb3-2a8b5096fa14"
      },
      "outputs": [
        {
          "name": "stderr",
          "output_type": "stream",
          "text": [
            "D:\\anac\\lib\\site-packages\\sklearn\\linear_model\\_logistic.py:763: ConvergenceWarning: lbfgs failed to converge (status=1):\n",
            "STOP: TOTAL NO. of ITERATIONS REACHED LIMIT.\n",
            "\n",
            "Increase the number of iterations (max_iter) or scale the data as shown in:\n",
            "    https://scikit-learn.org/stable/modules/preprocessing.html\n",
            "Please also refer to the documentation for alternative solver options:\n",
            "    https://scikit-learn.org/stable/modules/linear_model.html#logistic-regression\n",
            "  n_iter_i = _check_optimize_result(\n"
          ]
        }
      ],
      "source": [
        "fit_models = {}\n",
        "for algo, pipeline in pipelines.items():\n",
        "    model = pipeline.fit(X_train, y_train)\n",
        "    fit_models[algo] = model"
      ]
    },
    {
      "cell_type": "code",
      "execution_count": null,
      "id": "e30d22d8",
      "metadata": {
        "id": "e30d22d8",
        "outputId": "cfb782c2-616d-4cb8-ad7d-9e0bac55daed"
      },
      "outputs": [
        {
          "data": {
            "text/plain": [
              "{'lr': Pipeline(steps=[('standardscaler', StandardScaler()),\n",
              "                 ('logisticregression', LogisticRegression())]),\n",
              " 'rc': Pipeline(steps=[('standardscaler', StandardScaler()),\n",
              "                 ('ridgeclassifier', RidgeClassifier())]),\n",
              " 'rf': Pipeline(steps=[('standardscaler', StandardScaler()),\n",
              "                 ('randomforestclassifier', RandomForestClassifier())]),\n",
              " 'gb': Pipeline(steps=[('standardscaler', StandardScaler()),\n",
              "                 ('gradientboostingclassifier', GradientBoostingClassifier())])}"
            ]
          },
          "execution_count": 144,
          "metadata": {},
          "output_type": "execute_result"
        }
      ],
      "source": [
        "fit_models"
      ]
    },
    {
      "cell_type": "code",
      "execution_count": null,
      "id": "24912619",
      "metadata": {
        "id": "24912619",
        "outputId": "0dbd1b2a-473a-45e7-eb5c-4a7b2dae4bb2"
      },
      "outputs": [
        {
          "name": "stdout",
          "output_type": "stream",
          "text": [
            "lr 0.9983333333333333\n",
            "rc 0.9966666666666667\n",
            "rf 0.9991666666666666\n",
            "gb 0.9991666666666666\n"
          ]
        }
      ],
      "source": [
        "for algo, model in fit_models.items():\n",
        "    yhat = model.predict(X_test)\n",
        "    print(algo, accuracy_score(y_test, yhat))"
      ]
    },
    {
      "cell_type": "code",
      "execution_count": null,
      "id": "db8f1956",
      "metadata": {
        "id": "db8f1956"
      },
      "outputs": [],
      "source": [
        "for model_name in fit_models.keys():\n",
        "    with open(f'{model_name}_arms.pkl', 'wb') as f:\n",
        "        pickle.dump(fit_models[model_name], f)"
      ]
    },
    {
      "cell_type": "code",
      "execution_count": null,
      "id": "fa45205f",
      "metadata": {
        "id": "fa45205f"
      },
      "outputs": [],
      "source": [
        "with open('gb_arms.pkl', 'rb') as f:\n",
        "    model = pickle.load(f)"
      ]
    },
    {
      "cell_type": "markdown",
      "id": "a2749d68",
      "metadata": {
        "id": "a2749d68"
      },
      "source": [
        "# Final testing"
      ]
    },
    {
      "cell_type": "code",
      "execution_count": null,
      "id": "45002ed6",
      "metadata": {
        "id": "45002ed6"
      },
      "outputs": [],
      "source": [
        "import mouse\n",
        "\n",
        "arms_range = [[11, 22]]\n",
        "\n",
        "cap = cv2.VideoCapture(0)\n",
        "with mp_pose.Pose(min_detection_confidence=0.5, min_tracking_confidence=0.5) as pose:\n",
        "    while cap.isOpened():\n",
        "        ret, frame = cap.read()\n",
        "\n",
        "        image = cv2.cvtColor(frame, cv2.COLOR_BGR2RGB)\n",
        "        image.flags.writeable = False\n",
        "\n",
        "        results = pose.process(image)\n",
        "\n",
        "        image.flags.writeable = True\n",
        "        image = cv2.cvtColor(image, cv2.COLOR_RGB2BGR)\n",
        "\n",
        "        try:\n",
        "            landmarks = results.pose_landmarks.landmark\n",
        "            arms_landmarks = list()\n",
        "            for arms_list in arms_range:\n",
        "                for landmark_index in range(arms_list[0], arms_list[1]+1):\n",
        "                    landmark_row = [\n",
        "                        landmarks[landmark_index].x,\n",
        "                        landmarks[landmark_index].y,\n",
        "                        landmarks[landmark_index].z,\n",
        "                                   ]\n",
        "                    arms_landmarks += landmark_row\n",
        "\n",
        "            # gesture prediction\n",
        "            X = pd.DataFrame([arms_landmarks])\n",
        "            pred = model.predict(X)[0]\n",
        "            proba = model.predict_proba(X)[0]\n",
        "            print(pred)\n",
        "\n",
        "            cv2.rectangle(image, (0,0), (250, 60), (245, 117, 16), -1)\n",
        "            cv2.putText(image, pred.split(' ')[0], (95, 40), cv2.FONT_HERSHEY_SIMPLEX, 1, (255, 255, 255), 2, cv2.LINE_AA)\n",
        "            cv2.putText(image, str(round(proba[np.argmax(proba)], 2)), (10, 40), cv2.FONT_HERSHEY_SIMPLEX, 1, (255, 255, 255), 2, cv2.LINE_AA)\n",
        "\n",
        "            predict = pred.split(' ')[0]\n",
        "\n",
        "            # setting mouse actions for each of the gestures\n",
        "            if predict == 'right_punch':\n",
        "                mouse.move(100, 100, absolute=False, duration=0.05)\n",
        "                mouse.click('left')\n",
        "                mouse.move(-100, -100, absolute=False, duration=0.05)\n",
        "            elif predict == 'left_punch':\n",
        "                mouse.move(-100, 100, absolute=False, duration=0.05)\n",
        "                mouse.click('left')\n",
        "                mouse.move(100, -100, absolute=False, duration=0.05)\n",
        "            elif predict == 'block':\n",
        "                mouse.click('right')\n",
        "\n",
        "        except:\n",
        "            pass\n",
        "\n",
        "        mp_drawing.draw_landmarks(image, results.pose_landmarks, mp_pose.POSE_CONNECTIONS,\n",
        "                                mp_drawing.DrawingSpec(color=(245,117,66), thickness=2, circle_radius=2),\n",
        "                                mp_drawing.DrawingSpec(color=(245,66,230), thickness=2, circle_radius=2)\n",
        "                                 )\n",
        "\n",
        "        cv2.imshow('Mediapipe Feed', image)\n",
        "\n",
        "        if cv2.waitKey(10) & 0xFF == ord('q'):\n",
        "            break\n",
        "\n",
        "    cap.release()\n",
        "    cv2.destroyAllWindows()"
      ]
    },
    {
      "cell_type": "code",
      "source": [],
      "metadata": {
        "id": "j5m-c4QAIgkO"
      },
      "id": "j5m-c4QAIgkO",
      "execution_count": null,
      "outputs": []
    }
  ],
  "metadata": {
    "kernelspec": {
      "display_name": "Python 3 (ipykernel)",
      "language": "python",
      "name": "python3"
    },
    "language_info": {
      "codemirror_mode": {
        "name": "ipython",
        "version": 3
      },
      "file_extension": ".py",
      "mimetype": "text/x-python",
      "name": "python",
      "nbconvert_exporter": "python",
      "pygments_lexer": "ipython3",
      "version": "3.9.7"
    },
    "colab": {
      "provenance": []
    }
  },
  "nbformat": 4,
  "nbformat_minor": 5
}